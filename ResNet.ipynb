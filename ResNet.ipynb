{
 "cells": [
  {
   "cell_type": "code",
   "execution_count": null,
   "id": "4481a6a2",
   "metadata": {
    "ExecuteTime": {
     "end_time": "2021-07-28T08:57:07.292637Z",
     "start_time": "2021-07-28T08:57:06.216515Z"
    }
   },
   "outputs": [],
   "source": [
    "import torch\n",
    "import torch.nn as nn\n",
    "import torchvision\n",
    "import torchvision.datasets as datasets\n",
    "import torchvision.transforms as transforms\n",
    "import torch.nn.functional as F\n",
    "from torchsummary import summary"
   ]
  },
  {
   "cell_type": "code",
   "execution_count": null,
   "id": "51c85684",
   "metadata": {
    "ExecuteTime": {
     "end_time": "2021-07-28T08:57:07.322563Z",
     "start_time": "2021-07-28T08:57:07.312586Z"
    }
   },
   "outputs": [],
   "source": [
    "transform = transforms.Compose([\n",
    "    transforms.RandomHorizontalFlip(),\n",
    "    transforms.transforms.RandomRotation(15),\n",
    "    transforms.ColorJitter(brightness=0.2,contrast=0.2, saturation=0.2) ,\n",
    "    transforms.ToTensor(),\n",
    "    transforms.Normalize([0.485,0.456,0.406],[0.229,0.224,0.225])\n",
    "])"
   ]
  },
  {
   "cell_type": "code",
   "execution_count": null,
   "id": "2c8ded94",
   "metadata": {
    "ExecuteTime": {
     "end_time": "2021-07-28T08:57:07.338515Z",
     "start_time": "2021-07-28T08:57:07.326586Z"
    }
   },
   "outputs": [],
   "source": [
    "Batch_Size = 256"
   ]
  },
  {
   "cell_type": "code",
   "execution_count": null,
   "id": "9addcf45",
   "metadata": {
    "ExecuteTime": {
     "end_time": "2021-07-28T08:57:09.523745Z",
     "start_time": "2021-07-28T08:57:07.341507Z"
    },
    "scrolled": true
   },
   "outputs": [],
   "source": [
    "trainset = datasets.CIFAR10(root='./data', train=True,download=True, transform=transform)\n",
    "testset = datasets.CIFAR10(root='./data',train=False,download=True,transform=transform)\n",
    "trainloader = torch.utils.data.DataLoader(trainset, batch_size=Batch_Size,shuffle=True, num_workers=8)\n",
    "testloader = torch.utils.data.DataLoader(testset, batch_size=Batch_Size,shuffle=True, num_workers=8)\n",
    "classes = ('plane', 'car', 'bird', 'cat','deer', 'dog', 'frog', 'horse', 'ship', 'truck')"
   ]
  },
  {
   "cell_type": "code",
   "execution_count": null,
   "id": "4870dc5f",
   "metadata": {
    "ExecuteTime": {
     "end_time": "2021-07-28T08:57:09.587499Z",
     "start_time": "2021-07-28T08:57:09.575535Z"
    }
   },
   "outputs": [],
   "source": [
    "classes = trainset.classes"
   ]
  },
  {
   "cell_type": "code",
   "execution_count": null,
   "id": "3e8d69a9",
   "metadata": {
    "ExecuteTime": {
     "end_time": "2021-07-28T08:57:29.443421Z",
     "start_time": "2021-07-28T08:57:09.589499Z"
    }
   },
   "outputs": [],
   "source": [
    "import numpy as np\n",
    "import matplotlib.pyplot as plt\n",
    "plt.imshow(trainset.data[0])\n",
    "im,label = next(iter(trainloader))"
   ]
  },
  {
   "cell_type": "code",
   "execution_count": null,
   "id": "5ee8cb8b",
   "metadata": {
    "ExecuteTime": {
     "end_time": "2021-07-28T08:57:29.458385Z",
     "start_time": "2021-07-28T08:57:29.445395Z"
    }
   },
   "outputs": [],
   "source": [
    "def imshow(img):\n",
    "    img = img / 2 + 0.5\n",
    "    img = np.transpose(img.numpy(),(1,2,0))\n",
    "    plt.imshow(img)"
   ]
  },
  {
   "cell_type": "code",
   "execution_count": null,
   "id": "4b9375bb",
   "metadata": {
    "ExecuteTime": {
     "end_time": "2021-07-28T08:57:29.745577Z",
     "start_time": "2021-07-28T08:57:29.460340Z"
    }
   },
   "outputs": [],
   "source": [
    "imshow(im[0])\n",
    "im[0].shape\n",
    "plt.figure(figsize=(8,12))\n",
    "imshow(torchvision.utils.make_grid(im[:32]))"
   ]
  },
  {
   "cell_type": "code",
   "execution_count": null,
   "id": "ee2358fc",
   "metadata": {
    "ExecuteTime": {
     "end_time": "2021-07-28T08:57:30.444708Z",
     "start_time": "2021-07-28T08:57:30.064724Z"
    }
   },
   "outputs": [],
   "source": [
    "device = 'cuda' if torch.cuda.is_available() else 'cpu' # 判断是否用GPU"
   ]
  },
  {
   "cell_type": "code",
   "execution_count": null,
   "id": "a256582f",
   "metadata": {
    "ExecuteTime": {
     "end_time": "2021-07-28T08:57:30.460671Z",
     "start_time": "2021-07-28T08:57:30.446703Z"
    }
   },
   "outputs": [],
   "source": [
    "class BasicBlock(nn.Module):\n",
    "    expansion = 1  # 扩展因子，用于指定短路连接的维度倍数\n",
    "\n",
    "    def __init__(self, in_channels, out_channels, stride=1):\n",
    "        super(BasicBlock, self).__init__()\n",
    "        # 特征提取序列，包括两个3x3卷积层、批归一化和ReLU激活函数\n",
    "        self.features = nn.Sequential(\n",
    "            nn.Conv2d(in_channels, out_channels, kernel_size=3, stride=stride, padding=1, bias=False),\n",
    "            nn.BatchNorm2d(out_channels),\n",
    "            nn.ReLU(True),\n",
    "            nn.Conv2d(out_channels, out_channels, kernel_size=3, stride=1, padding=1, bias=False),\n",
    "            nn.BatchNorm2d(out_channels)\n",
    "        )\n",
    "        \n",
    "        # 短路连接，根据条件判断是否需要调整维度\n",
    "        self.shortcut = nn.Sequential()\n",
    "        if stride != 1 or in_channels != self.expansion * out_channels:\n",
    "            self.shortcut = nn.Sequential(\n",
    "                nn.Conv2d(in_channels, self.expansion * out_channels, kernel_size=1, stride=stride, bias=False),\n",
    "                nn.BatchNorm2d(self.expansion * out_channels),\n",
    "            )\n",
    "\n",
    "    def forward(self, x):\n",
    "        out = self.features(x)\n",
    "        out += self.shortcut(x)\n",
    "        out = torch.relu(out)\n",
    "        return out"
   ]
  },
  {
   "cell_type": "code",
   "execution_count": null,
   "id": "71a7c039",
   "metadata": {
    "ExecuteTime": {
     "end_time": "2021-07-28T08:57:30.598296Z",
     "start_time": "2021-07-28T08:57:30.465677Z"
    }
   },
   "outputs": [],
   "source": [
    "# 测试\n",
    "basic_block = BasicBlock(64, 128)\n",
    "x = torch.randn(2, 64, 32, 32)\n",
    "y = basic_block(x)"
   ]
  },
  {
   "cell_type": "code",
   "execution_count": null,
   "id": "8bfd5724",
   "metadata": {
    "ExecuteTime": {
     "end_time": "2021-07-28T08:57:30.630211Z",
     "start_time": "2021-07-28T08:57:30.601289Z"
    }
   },
   "outputs": [],
   "source": [
    "class Bottleneck(nn.Module):\n",
    "    expansion = 4  # 扩展因子，用于指定短路连接的维度倍数\n",
    "\n",
    "    def __init__(self, in_channels, zip_channels, stride=1):\n",
    "        super(Bottleneck, self).__init__()\n",
    "        out_channels = self.expansion * zip_channels\n",
    "        # 深度残差块的特征提取序列，包括1x1、3x3、1x1卷积层、批归一化和ReLU激活函数\n",
    "        self.features = nn.Sequential(\n",
    "            nn.Conv2d(in_channels, zip_channels, kernel_size=1, bias=False),\n",
    "            nn.BatchNorm2d(zip_channels),\n",
    "            nn.ReLU(inplace=True),\n",
    "            nn.Conv2d(zip_channels, zip_channels, kernel_size=3, stride=stride, padding=1, bias=False),\n",
    "            nn.BatchNorm2d(zip_channels),\n",
    "            nn.ReLU(inplace=True),\n",
    "            nn.Conv2d(zip_channels, out_channels, kernel_size=1, bias=False),\n",
    "            nn.BatchNorm2d(out_channels)\n",
    "        )\n",
    "        # 短路连接，根据条件判断是否需要调整维度\n",
    "        self.shortcut = nn.Sequential()\n",
    "        if stride != 1 or in_channels != out_channels:\n",
    "            self.shortcut = nn.Sequential(\n",
    "                nn.Conv2d(in_channels, out_channels, kernel_size=1, stride=stride, bias=False),\n",
    "                nn.BatchNorm2d(out_channels)\n",
    "            )\n",
    "\n",
    "    def forward(self, x):\n",
    "        out = self.features(x)\n",
    "        out += self.shortcut(x)\n",
    "        out = torch.relu(out)\n",
    "        return out"
   ]
  },
  {
   "cell_type": "code",
   "execution_count": null,
   "id": "54a252ba",
   "metadata": {
    "ExecuteTime": {
     "end_time": "2021-07-28T08:57:30.723961Z",
     "start_time": "2021-07-28T08:57:30.634202Z"
    },
    "scrolled": true
   },
   "outputs": [],
   "source": [
    "# 测试\n",
    "bottleneck = Bottleneck(256, 128)\n",
    "x = torch.randn(2, 256, 32, 32)\n",
    "y = bottleneck(x)"
   ]
  },
  {
   "cell_type": "code",
   "execution_count": null,
   "id": "d300dfcc",
   "metadata": {
    "ExecuteTime": {
     "end_time": "2021-07-28T08:57:30.768842Z",
     "start_time": "2021-07-28T08:57:30.728949Z"
    }
   },
   "outputs": [],
   "source": [
    "class ResNet(nn.Module):\n",
    "    def __init__(self, block, num_blocks, num_classes=10, verbose=False):\n",
    "        super(ResNet, self).__init__()\n",
    "        self.verbose = verbose\n",
    "        self.in_channels = 64\n",
    "        \n",
    "        # 初始的卷积层、批归一化和ReLU激活函数\n",
    "        self.features = nn.Sequential(\n",
    "            nn.Conv2d(3, 64, kernel_size=3, stride=1, padding=1, bias=False),\n",
    "            nn.BatchNorm2d(64),\n",
    "            nn.ReLU(inplace=True)\n",
    "        )\n",
    "\n",
    "        # 构建不同层次的残差块\n",
    "        self.layer1 = self._make_layer(block, 64, num_blocks[0], stride=1)\n",
    "        self.layer2 = self._make_layer(block, 128, num_blocks[1], stride=2)\n",
    "        self.layer3 = self._make_layer(block, 256, num_blocks[2], stride=2)\n",
    "        self.layer4 = self._make_layer(block, 512, num_blocks[3], stride=2)\n",
    "\n",
    "        # 全局平均池化层和分类器\n",
    "        self.avg_pool = nn.AvgPool2d(kernel_size=4)\n",
    "        self.classifer = nn.Linear(512 * block.expansion, num_classes)\n",
    "        \n",
    "    def _make_layer(self, block, out_channels, num_blocks, stride):\n",
    "        strides = [stride] + [1] * (num_blocks - 1)\n",
    "        layers = []\n",
    "        \n",
    "        # 构建残差块\n",
    "        for stride in strides:\n",
    "            layers.append(block(self.in_channels, out_channels, stride))\n",
    "            self.in_channels = out_channels * block.expansion\n",
    "        return nn.Sequential(*layers)\n",
    "    \n",
    "    def forward(self, x):\n",
    "        out = self.features(x)\n",
    "        if self.verbose:\n",
    "            print('block 1 output: {}'.format(out.shape))\n",
    "        out = self.layer1(out)        \n",
    "        if self.verbose:\n",
    "            print('block 2 output: {}'.format(out.shape))\n",
    "        out = self.layer2(out)\n",
    "        if self.verbose:\n",
    "            print('block 3 output: {}'.format(out.shape))\n",
    "        out = self.layer3(out)\n",
    "        if self.verbose:\n",
    "            print('block 4 output: {}'.format(out.shape))\n",
    "        out = self.layer4(out)\n",
    "        if self.verbose:\n",
    "            print('block 5 output: {}'.format(out.shape))\n",
    "        \n",
    "        # 全局平均池化、展平和分类\n",
    "        out = self.avg_pool(out)\n",
    "        out = out.view(out.size(0), -1)\n",
    "        out = self.classifer(out)\n",
    "        return out"
   ]
  },
  {
   "cell_type": "code",
   "execution_count": null,
   "id": "19657e94",
   "metadata": {
    "ExecuteTime": {
     "end_time": "2021-07-28T08:57:34.087990Z",
     "start_time": "2021-07-28T08:57:30.772830Z"
    }
   },
   "outputs": [],
   "source": [
    "# 定义ResNet18模型\n",
    "def ResNet18(verbose=False):\n",
    "    return ResNet(BasicBlock, [2, 2, 2, 2], verbose=verbose)\n",
    "\n",
    "# 定义ResNet34模型\n",
    "def ResNet34(verbose=False):\n",
    "    return ResNet(BasicBlock, [3, 4, 6, 3], verbose=verbose)\n",
    "\n",
    "# 定义ResNet50模型\n",
    "def ResNet50(verbose=False):\n",
    "    return ResNet(Bottleneck, [3, 4, 6, 3], verbose=verbose)\n",
    "\n",
    "# 定义ResNet101模型\n",
    "def ResNet101(verbose=False):\n",
    "    return ResNet(Bottleneck, [3, 4, 23, 3], verbose=verbose)\n",
    "\n",
    "# 定义ResNet152模型\n",
    "def ResNet152(verbose=False):\n",
    "    return ResNet(Bottleneck, [3, 8, 36, 3], verbose=verbose)\n",
    "\n",
    "# 创建ResNet18模型实例并将其移动到指定的设备上\n",
    "net = ResNet18(True).to(device)\n"
   ]
  },
  {
   "cell_type": "code",
   "execution_count": null,
   "id": "ea42e700",
   "metadata": {
    "ExecuteTime": {
     "end_time": "2021-07-28T08:57:36.951339Z",
     "start_time": "2021-07-28T08:57:34.088963Z"
    }
   },
   "outputs": [],
   "source": [
    "summary(net,(3,32,32))"
   ]
  },
  {
   "cell_type": "code",
   "execution_count": null,
   "id": "00b52eb8",
   "metadata": {
    "ExecuteTime": {
     "end_time": "2021-07-28T08:57:36.997192Z",
     "start_time": "2021-07-28T08:57:36.970254Z"
    },
    "scrolled": true
   },
   "outputs": [],
   "source": [
    "# 测试\n",
    "x = torch.randn(2, 3, 32, 32).to(device)\n",
    "y = net(x)"
   ]
  },
  {
   "cell_type": "code",
   "execution_count": null,
   "id": "e583234f",
   "metadata": {
    "ExecuteTime": {
     "end_time": "2021-07-28T08:57:37.504822Z",
     "start_time": "2021-07-28T08:57:36.999174Z"
    }
   },
   "outputs": [],
   "source": [
    "# 创建ResNet34模型实例并将其移动到指定的设备上\n",
    "net = ResNet34().to(device)\n",
    "\n",
    "# 如果设备为cuda，则使用DataParallel进行多GPU训练，并启用cudnn的benchmark模式\n",
    "if device == 'cuda':\n",
    "    net = nn.DataParallel(net)\n",
    "    torch.backends.cudnn.benchmark = True\n"
   ]
  },
  {
   "cell_type": "code",
   "execution_count": null,
   "id": "eb7f33f1",
   "metadata": {
    "ExecuteTime": {
     "end_time": "2021-07-27T11:43:17.184106Z",
     "start_time": "2021-07-27T11:43:17.169147Z"
    }
   },
   "outputs": [],
   "source": [
    "import torch.optim as optim\n",
    "import torch.nn as nn\n",
    "\n",
    "# 定义优化器，损失函数和学习率调度器\n",
    "optimizer = optim.SGD(net.parameters(), lr=1e-1, momentum=0.9, weight_decay=5e-4)\n",
    "criterion = nn.CrossEntropyLoss()\n",
    "scheduler = optim.lr_scheduler.ReduceLROnPlateau(optimizer, 'min', factor=0.5, verbose=True, patience=5, min_lr=0.000001)  # 动态更新学习率\n",
    "\n",
    "# 导入时间库\n",
    "import time\n",
    "\n",
    "# 设置训练的总轮数\n",
    "epoch = 50"
   ]
  },
  {
   "cell_type": "code",
   "execution_count": null,
   "id": "e0e286c7",
   "metadata": {
    "ExecuteTime": {
     "end_time": "2021-07-27T11:43:17.200065Z",
     "start_time": "2021-07-27T11:43:17.188099Z"
    }
   },
   "outputs": [],
   "source": [
    "#训练\n",
    "import os\n",
    "if not os.path.exists('./model'):\n",
    "    os.makedirs('./model')\n",
    "else:\n",
    "    print('文件已存在')\n",
    "save_path = './model/ResNet.pth'"
   ]
  },
  {
   "cell_type": "code",
   "execution_count": null,
   "id": "3592c7c2",
   "metadata": {
    "ExecuteTime": {
     "end_time": "2021-07-27T11:31:27.778756Z",
     "start_time": "2021-07-27T10:29:39.550348Z"
    },
    "scrolled": false
   },
   "outputs": [],
   "source": [
    "from utils import train\n",
    "from utils import plot_history\n",
    "Acc, Loss, Lr = train(net, trainloader, testloader, epoch, optimizer, criterion, scheduler, save_path, verbose = True)"
   ]
  },
  {
   "cell_type": "code",
   "execution_count": null,
   "id": "56acaf36",
   "metadata": {
    "ExecuteTime": {
     "end_time": "2021-07-27T11:31:28.643875Z",
     "start_time": "2021-07-27T11:31:27.789717Z"
    }
   },
   "outputs": [],
   "source": [
    "plot_history(epoch ,Acc, Loss, Lr)"
   ]
  },
  {
   "cell_type": "code",
   "execution_count": null,
   "id": "eb924f03",
   "metadata": {
    "ExecuteTime": {
     "end_time": "2021-07-27T11:39:12.206566Z",
     "start_time": "2021-07-27T11:38:05.378397Z"
    },
    "scrolled": true
   },
   "outputs": [],
   "source": [
    "# 测试代码\n",
    "correct = 0  # 用于记录正确分类的图像数量\n",
    "total = 0    # 用于记录总图像数量\n",
    "\n",
    "# 清理GPU缓存，确保有足够的GPU内存进行测试\n",
    "torch.cuda.empty_cache()\n",
    "\n",
    "# 将模型设置为评估模式\n",
    "net.eval()\n",
    "\n",
    "# 在评估模式下，不计算梯度，以节省内存和加速计算\n",
    "with torch.no_grad():\n",
    "    # 遍历测试数据加载器中的图像和标签\n",
    "    for data in testloader:\n",
    "        images, labels = data\n",
    "        images = images.to(device)  # 将图像移动到设备（GPU或CPU）\n",
    "        labels = labels.to(device)  # 将标签移动到设备（GPU或CPU）\n",
    "\n",
    "        # 将网络应用于输入图像，获取输出\n",
    "        outputs = net(images)\n",
    "\n",
    "        # 使用 argmax 函数获取每个图像的预测类别\n",
    "        _, predicted = torch.max(outputs.data, 1)\n",
    "\n",
    "        # 计算正确分类的图像数量\n",
    "        correct += (predicted == labels).sum().item()\n",
    "\n",
    "        # 计算总图像数量\n",
    "        total += labels.size(0)\n",
    "\n",
    "# 打印网络在测试数据集上的准确率\n",
    "print('Accuracy of the network on the 10000 test images: %.2f %%' % (100 * correct / total))\n"
   ]
  },
  {
   "cell_type": "code",
   "execution_count": null,
   "id": "f289d22f",
   "metadata": {
    "ExecuteTime": {
     "end_time": "2021-07-27T11:40:31.393714Z",
     "start_time": "2021-07-27T11:39:22.050779Z"
    },
    "scrolled": true
   },
   "outputs": [],
   "source": [
    "# 定义两个列表，用于存储每个类别中测试正确的图像数量和总图像数量，初始化为0\n",
    "class_correct = list(0. for i in range(10))\n",
    "class_total = list(0. for i in range(10))\n",
    "\n",
    "# 将模型设置为评估模式\n",
    "net.eval()\n",
    "\n",
    "# 在评估模式下，不计算梯度，以节省内存和加速计算\n",
    "with torch.no_grad():\n",
    "    # 遍历测试数据加载器中的图像和标签\n",
    "    for data in testloader:\n",
    "        images, labels = data\n",
    "        images = images.to(device)  # 将图像移动到设备（GPU或CPU）\n",
    "        labels = labels.to(device)  # 将标签移动到设备（GPU或CPU）\n",
    "\n",
    "        # 将网络应用于输入图像，获取输出\n",
    "        outputs = net(images)\n",
    "\n",
    "        # 使用 argmax 函数获取每个图像的预测类别\n",
    "        _, predicted = torch.max(outputs.data, 1)\n",
    "\n",
    "        # 检查预测是否与真实标签相匹配，并将结果转换为布尔张量\n",
    "        correct = (predicted == labels).squeeze()\n",
    "\n",
    "        # 遍历当前批次中的每个图像\n",
    "        for i in range(len(images)):\n",
    "            label = labels[i]  # 获取当前图像的真实标签\n",
    "            class_correct[label] += correct[i].item()  # 如果预测正确，增加该类别的正确计数\n",
    "            class_total[label] += 1  # 增加该类别的总计数\n",
    "\n",
    "# 打印每个类别在测试数据集上的准确率\n",
    "for i in range(10):\n",
    "    accuracy = 100 * class_correct[i] / class_total[i]\n",
    "    print('Accuracy of %5s : %.2f %%' % (classes[i], accuracy))\n"
   ]
  },
  {
   "cell_type": "code",
   "execution_count": null,
   "id": "7d9c54fd",
   "metadata": {
    "ExecuteTime": {
     "end_time": "2021-07-27T11:31:42.247687Z",
     "start_time": "2021-07-27T11:31:28.647822Z"
    },
    "scrolled": false
   },
   "outputs": [],
   "source": [
    "# 从测试数据加载器中获取一个批次的图像和标签\n",
    "dataiter = iter(testloader)\n",
    "images, labels = next(dataiter)\n",
    "\n",
    "# 将图像复制一份以备后用，并将其移动到设备（GPU或CPU）\n",
    "images_ = images\n",
    "images_ = images_.to(device)\n",
    "\n",
    "# 将标签移动到设备（GPU或CPU）\n",
    "labels = labels.to(device)\n",
    "\n",
    "# 使用神经网络对图像进行预测\n",
    "val_output = net(images_)\n",
    "_, val_preds = torch.max(val_output, 1)\n",
    "\n",
    "# 创建一个图表，用于显示图像和预测结果\n",
    "fig = plt.figure(figsize=(25,4))\n",
    "\n",
    "# 计算当前批次中预测正确的图像数量\n",
    "correct = torch.sum(val_preds == labels.data).item()\n",
    "\n",
    "# 打印准确率\n",
    "print(\"Accuracy Rate = {}%\".format(correct / len(images) * 100))\n",
    "\n",
    "# 创建一个图表，显示64张图像及其真实类别和预测类别\n",
    "fig = plt.figure(figsize=(25,25))\n",
    "for idx in np.arange(64):    \n",
    "    ax = fig.add_subplot(8, 8, idx+1, xticks=[], yticks=[])\n",
    "    imshow(images[idx])  # 显示图像\n",
    "    # 设置图像标题，使用绿色表示预测正确，红色表示预测错误\n",
    "    ax.set_title(\"{}, ({})\".format(classes[val_preds[idx].item()], classes[labels[idx].item()]), \n",
    "                 color=(\"green\" if val_preds[idx].item() == labels[idx].item() else \"red\"))\n"
   ]
  },
  {
   "cell_type": "code",
   "execution_count": null,
   "id": "3e847551",
   "metadata": {
    "ExecuteTime": {
     "end_time": "2021-07-27T11:40:31.674996Z",
     "start_time": "2021-07-27T11:40:31.397703Z"
    }
   },
   "outputs": [],
   "source": [
    "#模型保存\n",
    "torch.save(net,save_path[:-4]+'_'+str(epoch)+'.pth')"
   ]
  }
 ],
 "metadata": {
  "kernelspec": {
   "display_name": "Python 3 (ipykernel)",
   "language": "python",
   "name": "python3"
  },
  "language_info": {
   "codemirror_mode": {
    "name": "ipython",
    "version": 3
   },
   "file_extension": ".py",
   "mimetype": "text/x-python",
   "name": "python",
   "nbconvert_exporter": "python",
   "pygments_lexer": "ipython3",
   "version": "3.10.0"
  }
 },
 "nbformat": 4,
 "nbformat_minor": 5
}
